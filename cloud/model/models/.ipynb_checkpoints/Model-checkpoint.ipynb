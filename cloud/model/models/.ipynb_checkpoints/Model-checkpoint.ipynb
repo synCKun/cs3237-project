{
 "cells": [
  {
   "cell_type": "code",
   "execution_count": 2,
   "metadata": {
    "colab": {
     "base_uri": "https://localhost:8080/"
    },
    "id": "JU1jL4xlWPCz",
    "outputId": "5c356507-44f5-4cb7-91f9-9ed860e72b66"
   },
   "outputs": [
    {
     "name": "stdout",
     "output_type": "stream",
     "text": [
      "Mounted at /content/drive\n"
     ]
    }
   ],
   "source": [
    "from google.colab import drive\n",
    "drive.mount('/content/drive')"
   ]
  },
  {
   "cell_type": "code",
   "execution_count": 3,
   "metadata": {
    "colab": {
     "base_uri": "https://localhost:8080/"
    },
    "id": "64ip1JijWfI3",
    "outputId": "c5e39c34-81bd-4423-f4dc-75c907cbbb18"
   },
   "outputs": [
    {
     "name": "stdout",
     "output_type": "stream",
     "text": [
      "/content/drive/My Drive/CS3237project\n"
     ]
    }
   ],
   "source": [
    "cd /content/drive/My Drive/CS3237project"
   ]
  },
  {
   "cell_type": "code",
   "execution_count": 7,
   "metadata": {
    "id": "-6urpg0ud_O2"
   },
   "outputs": [],
   "source": [
    "import pandas as pd\n",
    "import matplotlib.pyplot as plt\n",
    "import sklearn\n",
    "import pickle\n",
    "from sklearn import metrics\n",
    "from sklearn.model_selection import train_test_split\n",
    "from sklearn.svm import SVC\n",
    "from sklearn.preprocessing import StandardScaler\n",
    "from sklearn.model_selection import GridSearchCV\n",
    "from sklearn.pipeline import make_pipeline\n",
    "\n",
    "\n",
    "def load_data(url, rain_label, col=['time', 'light', 'humidity', 'humidity_temp', 'pressure', 'pressure_temp']):\n",
    "  df = pd.read_csv(url, names = col)\n",
    "  df.drop(columns=['time'], inplace = True)\n",
    "  df['rain'] = rain_label\n",
    "  return df\n",
    "\n",
    "\n",
    "def split_data(df, X_col=['light', 'humidity', 'humidity_temp', 'pressure', 'pressure_temp'], y_col=['rain'], test_size=0.2, random_state=42):\n",
    "\n",
    "  y = df_full[y_col]\n",
    "  X = df_full[X_col]\n",
    "  X_train, X_test, y_train, y_test = train_test_split(X, y, test_size=test_size, random_state=random_state)\n",
    "  \n",
    "  return X_train, X_test, y_train, y_test"
   ]
  },
  {
   "cell_type": "code",
   "execution_count": 8,
   "metadata": {
    "id": "8IR05qP_WsvY"
   },
   "outputs": [],
   "source": [
    "rain_1_toilet_xz_csv_url = 'https://raw.githubusercontent.com/ttippinyu/cs3237-project/main/cloud/data/rain/rain_1_toilet_xz.csv?token=ALHL6UUQO34OSPFDJ23ED527VEI6E'\n",
    "rain_1_tanat_csv_url = 'https://raw.githubusercontent.com/ttippinyu/cs3237-project/xizhi/cloud/data/rain/rain_1_tanat.csv?token=ALHL6UUBN42RHB52PG3M6TS7VEY3A'\n",
    "rain_1_ck_csv_url = 'https://raw.githubusercontent.com/ttippinyu/cs3237-project/xizhi/cloud/data/rain/rain_1_ck.csv?token=ALHL6USJHZ2QLHD7B4XJXES7VEZD2'\n",
    "no_rain_1_toilet_xz_csv_url = 'https://raw.githubusercontent.com/ttippinyu/cs3237-project/main/cloud/data/no-rain/no_rain_1_toilet_xz.csv?token=ALHL6UT4GK57JWQXJDGBBE27VEJHW'\n",
    "no_rain_2_toilet_xz_csv_url = 'https://raw.githubusercontent.com/ttippinyu/cs3237-project/main/cloud/data/no-rain/no_rain_2_toilet_xz.csv?token=ALHL6US5OIKOJ555WUYKUNK7VEJKM'\n",
    "no_rain_1_tanat_csv_url = 'https://raw.githubusercontent.com/ttippinyu/cs3237-project/xizhi/cloud/data/no-rain/no_rain_1_tanat.csv?token=ALHL6UVGFKOQLBSXARTOBVS7VEZ3I'\n",
    "no_rain_1_ck_csv_url = 'https://raw.githubusercontent.com/ttippinyu/cs3237-project/xizhi/cloud/data/no-rain/no_rain_1_ck.csv?token=ALHL6USNPXLYYTWPNJ4D4KK7VEZZA'\n",
    "no_rain_1_xz_csv_url = 'https://raw.githubusercontent.com/ttippinyu/cs3237-project/xizhi/cloud/data/no-rain/no_rain_1_xz.csv?token=ALHL6USQRDWFZAJLIAEWYF27VE2AM'"
   ]
  },
  {
   "cell_type": "code",
   "execution_count": 9,
   "metadata": {
    "id": "z9GUwbQtZr8U"
   },
   "outputs": [],
   "source": [
    "df_rain_1 = load_data(rain_1_toilet_xz_csv_url, rain_label=1)\n",
    "df_rain_2 = load_data(rain_1_tanat_csv_url, rain_label=1)\n",
    "df_rain_3 = load_data(rain_1_ck_csv_url, rain_label=1)\n",
    "\n",
    "df_no_rain_1 = load_data(no_rain_1_toilet_xz_csv_url, rain_label=0)\n",
    "df_no_rain_2 = load_data(no_rain_2_toilet_xz_csv_url, rain_label=0)\n",
    "df_no_rain_3 = load_data(no_rain_1_tanat_csv_url, rain_label=0)\n",
    "df_no_rain_4 = load_data(no_rain_1_ck_csv_url, rain_label=0)\n",
    "df_no_rain_5 = load_data(no_rain_1_xz_csv_url, rain_label=0)\n",
    "\n",
    "df_rain = df_rain_1.append(df_rain_2.append(df_rain_3), ignore_index=True)\n",
    "df_no_rain = df_no_rain_1.append(df_no_rain_2.append(df_no_rain_3.append(df_no_rain_4.append(df_no_rain_5))), ignore_index=True)"
   ]
  },
  {
   "cell_type": "code",
   "execution_count": 10,
   "metadata": {
    "colab": {
     "base_uri": "https://localhost:8080/",
     "height": 419
    },
    "id": "pUMaaRGm8UGW",
    "outputId": "580edba7-43a2-4bea-973d-d12c2f006ed3"
   },
   "outputs": [
    {
     "data": {
      "text/html": [
       "<div>\n",
       "<style scoped>\n",
       "    .dataframe tbody tr th:only-of-type {\n",
       "        vertical-align: middle;\n",
       "    }\n",
       "\n",
       "    .dataframe tbody tr th {\n",
       "        vertical-align: top;\n",
       "    }\n",
       "\n",
       "    .dataframe thead th {\n",
       "        text-align: right;\n",
       "    }\n",
       "</style>\n",
       "<table border=\"1\" class=\"dataframe\">\n",
       "  <thead>\n",
       "    <tr style=\"text-align: right;\">\n",
       "      <th></th>\n",
       "      <th>light</th>\n",
       "      <th>humidity</th>\n",
       "      <th>humidity_temp</th>\n",
       "      <th>pressure</th>\n",
       "      <th>pressure_temp</th>\n",
       "      <th>rain</th>\n",
       "    </tr>\n",
       "  </thead>\n",
       "  <tbody>\n",
       "    <tr>\n",
       "      <th>0</th>\n",
       "      <td>5.32</td>\n",
       "      <td>75.128174</td>\n",
       "      <td>34.040527</td>\n",
       "      <td>1010.21</td>\n",
       "      <td>34.72</td>\n",
       "      <td>1</td>\n",
       "    </tr>\n",
       "    <tr>\n",
       "      <th>1</th>\n",
       "      <td>5.31</td>\n",
       "      <td>75.128174</td>\n",
       "      <td>34.040527</td>\n",
       "      <td>1010.21</td>\n",
       "      <td>34.72</td>\n",
       "      <td>1</td>\n",
       "    </tr>\n",
       "    <tr>\n",
       "      <th>2</th>\n",
       "      <td>5.31</td>\n",
       "      <td>75.225830</td>\n",
       "      <td>34.060669</td>\n",
       "      <td>1010.18</td>\n",
       "      <td>34.70</td>\n",
       "      <td>1</td>\n",
       "    </tr>\n",
       "    <tr>\n",
       "      <th>3</th>\n",
       "      <td>5.32</td>\n",
       "      <td>75.225830</td>\n",
       "      <td>34.060669</td>\n",
       "      <td>1010.18</td>\n",
       "      <td>34.70</td>\n",
       "      <td>1</td>\n",
       "    </tr>\n",
       "    <tr>\n",
       "      <th>4</th>\n",
       "      <td>5.23</td>\n",
       "      <td>75.225830</td>\n",
       "      <td>34.060669</td>\n",
       "      <td>1010.22</td>\n",
       "      <td>34.71</td>\n",
       "      <td>1</td>\n",
       "    </tr>\n",
       "    <tr>\n",
       "      <th>...</th>\n",
       "      <td>...</td>\n",
       "      <td>...</td>\n",
       "      <td>...</td>\n",
       "      <td>...</td>\n",
       "      <td>...</td>\n",
       "      <td>...</td>\n",
       "    </tr>\n",
       "    <tr>\n",
       "      <th>4901</th>\n",
       "      <td>0.24</td>\n",
       "      <td>85.351562</td>\n",
       "      <td>36.910706</td>\n",
       "      <td>1008.66</td>\n",
       "      <td>37.88</td>\n",
       "      <td>1</td>\n",
       "    </tr>\n",
       "    <tr>\n",
       "      <th>4902</th>\n",
       "      <td>0.24</td>\n",
       "      <td>85.351562</td>\n",
       "      <td>36.910706</td>\n",
       "      <td>1008.66</td>\n",
       "      <td>37.88</td>\n",
       "      <td>1</td>\n",
       "    </tr>\n",
       "    <tr>\n",
       "      <th>4903</th>\n",
       "      <td>0.24</td>\n",
       "      <td>85.351562</td>\n",
       "      <td>36.910706</td>\n",
       "      <td>1008.66</td>\n",
       "      <td>37.88</td>\n",
       "      <td>1</td>\n",
       "    </tr>\n",
       "    <tr>\n",
       "      <th>4904</th>\n",
       "      <td>0.24</td>\n",
       "      <td>85.351562</td>\n",
       "      <td>36.910706</td>\n",
       "      <td>1008.66</td>\n",
       "      <td>37.88</td>\n",
       "      <td>1</td>\n",
       "    </tr>\n",
       "    <tr>\n",
       "      <th>4905</th>\n",
       "      <td>0.24</td>\n",
       "      <td>85.351562</td>\n",
       "      <td>36.910706</td>\n",
       "      <td>1008.72</td>\n",
       "      <td>37.93</td>\n",
       "      <td>1</td>\n",
       "    </tr>\n",
       "  </tbody>\n",
       "</table>\n",
       "<p>4906 rows × 6 columns</p>\n",
       "</div>"
      ],
      "text/plain": [
       "      light   humidity  humidity_temp  pressure  pressure_temp  rain\n",
       "0      5.32  75.128174      34.040527   1010.21          34.72     1\n",
       "1      5.31  75.128174      34.040527   1010.21          34.72     1\n",
       "2      5.31  75.225830      34.060669   1010.18          34.70     1\n",
       "3      5.32  75.225830      34.060669   1010.18          34.70     1\n",
       "4      5.23  75.225830      34.060669   1010.22          34.71     1\n",
       "...     ...        ...            ...       ...            ...   ...\n",
       "4901   0.24  85.351562      36.910706   1008.66          37.88     1\n",
       "4902   0.24  85.351562      36.910706   1008.66          37.88     1\n",
       "4903   0.24  85.351562      36.910706   1008.66          37.88     1\n",
       "4904   0.24  85.351562      36.910706   1008.66          37.88     1\n",
       "4905   0.24  85.351562      36.910706   1008.72          37.93     1\n",
       "\n",
       "[4906 rows x 6 columns]"
      ]
     },
     "execution_count": 10,
     "metadata": {},
     "output_type": "execute_result"
    }
   ],
   "source": [
    "df_rain"
   ]
  },
  {
   "cell_type": "code",
   "execution_count": 11,
   "metadata": {
    "colab": {
     "base_uri": "https://localhost:8080/",
     "height": 419
    },
    "id": "7dboaUHl8lA-",
    "outputId": "1339f906-6133-4ac1-bc54-bce847a83718"
   },
   "outputs": [
    {
     "data": {
      "text/html": [
       "<div>\n",
       "<style scoped>\n",
       "    .dataframe tbody tr th:only-of-type {\n",
       "        vertical-align: middle;\n",
       "    }\n",
       "\n",
       "    .dataframe tbody tr th {\n",
       "        vertical-align: top;\n",
       "    }\n",
       "\n",
       "    .dataframe thead th {\n",
       "        text-align: right;\n",
       "    }\n",
       "</style>\n",
       "<table border=\"1\" class=\"dataframe\">\n",
       "  <thead>\n",
       "    <tr style=\"text-align: right;\">\n",
       "      <th></th>\n",
       "      <th>light</th>\n",
       "      <th>humidity</th>\n",
       "      <th>humidity_temp</th>\n",
       "      <th>pressure</th>\n",
       "      <th>pressure_temp</th>\n",
       "      <th>rain</th>\n",
       "    </tr>\n",
       "  </thead>\n",
       "  <tbody>\n",
       "    <tr>\n",
       "      <th>0</th>\n",
       "      <td>158.12</td>\n",
       "      <td>67.187500</td>\n",
       "      <td>33.889465</td>\n",
       "      <td>1010.21</td>\n",
       "      <td>34.81</td>\n",
       "      <td>0</td>\n",
       "    </tr>\n",
       "    <tr>\n",
       "      <th>1</th>\n",
       "      <td>158.12</td>\n",
       "      <td>67.187500</td>\n",
       "      <td>33.909607</td>\n",
       "      <td>1010.21</td>\n",
       "      <td>34.81</td>\n",
       "      <td>0</td>\n",
       "    </tr>\n",
       "    <tr>\n",
       "      <th>2</th>\n",
       "      <td>157.80</td>\n",
       "      <td>67.187500</td>\n",
       "      <td>33.909607</td>\n",
       "      <td>1010.21</td>\n",
       "      <td>34.82</td>\n",
       "      <td>0</td>\n",
       "    </tr>\n",
       "    <tr>\n",
       "      <th>3</th>\n",
       "      <td>157.80</td>\n",
       "      <td>67.089844</td>\n",
       "      <td>33.909607</td>\n",
       "      <td>1010.21</td>\n",
       "      <td>34.82</td>\n",
       "      <td>0</td>\n",
       "    </tr>\n",
       "    <tr>\n",
       "      <th>4</th>\n",
       "      <td>157.80</td>\n",
       "      <td>67.089844</td>\n",
       "      <td>33.909607</td>\n",
       "      <td>1010.18</td>\n",
       "      <td>34.81</td>\n",
       "      <td>0</td>\n",
       "    </tr>\n",
       "    <tr>\n",
       "      <th>...</th>\n",
       "      <td>...</td>\n",
       "      <td>...</td>\n",
       "      <td>...</td>\n",
       "      <td>...</td>\n",
       "      <td>...</td>\n",
       "      <td>...</td>\n",
       "    </tr>\n",
       "    <tr>\n",
       "      <th>4965</th>\n",
       "      <td>57.68</td>\n",
       "      <td>63.842773</td>\n",
       "      <td>34.876404</td>\n",
       "      <td>1010.28</td>\n",
       "      <td>35.13</td>\n",
       "      <td>0</td>\n",
       "    </tr>\n",
       "    <tr>\n",
       "      <th>4966</th>\n",
       "      <td>57.68</td>\n",
       "      <td>63.842773</td>\n",
       "      <td>34.876404</td>\n",
       "      <td>1010.28</td>\n",
       "      <td>35.13</td>\n",
       "      <td>0</td>\n",
       "    </tr>\n",
       "    <tr>\n",
       "      <th>4967</th>\n",
       "      <td>58.02</td>\n",
       "      <td>63.842773</td>\n",
       "      <td>34.876404</td>\n",
       "      <td>1010.28</td>\n",
       "      <td>35.13</td>\n",
       "      <td>0</td>\n",
       "    </tr>\n",
       "    <tr>\n",
       "      <th>4968</th>\n",
       "      <td>58.02</td>\n",
       "      <td>63.842773</td>\n",
       "      <td>34.886475</td>\n",
       "      <td>1010.26</td>\n",
       "      <td>35.13</td>\n",
       "      <td>0</td>\n",
       "    </tr>\n",
       "    <tr>\n",
       "      <th>4969</th>\n",
       "      <td>58.82</td>\n",
       "      <td>63.842773</td>\n",
       "      <td>34.886475</td>\n",
       "      <td>1010.26</td>\n",
       "      <td>35.13</td>\n",
       "      <td>0</td>\n",
       "    </tr>\n",
       "  </tbody>\n",
       "</table>\n",
       "<p>4970 rows × 6 columns</p>\n",
       "</div>"
      ],
      "text/plain": [
       "       light   humidity  humidity_temp  pressure  pressure_temp  rain\n",
       "0     158.12  67.187500      33.889465   1010.21          34.81     0\n",
       "1     158.12  67.187500      33.909607   1010.21          34.81     0\n",
       "2     157.80  67.187500      33.909607   1010.21          34.82     0\n",
       "3     157.80  67.089844      33.909607   1010.21          34.82     0\n",
       "4     157.80  67.089844      33.909607   1010.18          34.81     0\n",
       "...      ...        ...            ...       ...            ...   ...\n",
       "4965   57.68  63.842773      34.876404   1010.28          35.13     0\n",
       "4966   57.68  63.842773      34.876404   1010.28          35.13     0\n",
       "4967   58.02  63.842773      34.876404   1010.28          35.13     0\n",
       "4968   58.02  63.842773      34.886475   1010.26          35.13     0\n",
       "4969   58.82  63.842773      34.886475   1010.26          35.13     0\n",
       "\n",
       "[4970 rows x 6 columns]"
      ]
     },
     "execution_count": 11,
     "metadata": {},
     "output_type": "execute_result"
    }
   ],
   "source": [
    "df_no_rain"
   ]
  },
  {
   "cell_type": "code",
   "execution_count": 12,
   "metadata": {
    "colab": {
     "base_uri": "https://localhost:8080/",
     "height": 419
    },
    "id": "8zApMp3A8tLz",
    "outputId": "015d6bcc-1bb1-4373-e472-bc40d9119797"
   },
   "outputs": [
    {
     "data": {
      "text/html": [
       "<div>\n",
       "<style scoped>\n",
       "    .dataframe tbody tr th:only-of-type {\n",
       "        vertical-align: middle;\n",
       "    }\n",
       "\n",
       "    .dataframe tbody tr th {\n",
       "        vertical-align: top;\n",
       "    }\n",
       "\n",
       "    .dataframe thead th {\n",
       "        text-align: right;\n",
       "    }\n",
       "</style>\n",
       "<table border=\"1\" class=\"dataframe\">\n",
       "  <thead>\n",
       "    <tr style=\"text-align: right;\">\n",
       "      <th></th>\n",
       "      <th>light</th>\n",
       "      <th>humidity</th>\n",
       "      <th>humidity_temp</th>\n",
       "      <th>pressure</th>\n",
       "      <th>pressure_temp</th>\n",
       "      <th>rain</th>\n",
       "    </tr>\n",
       "  </thead>\n",
       "  <tbody>\n",
       "    <tr>\n",
       "      <th>0</th>\n",
       "      <td>5.32</td>\n",
       "      <td>75.128174</td>\n",
       "      <td>34.040527</td>\n",
       "      <td>1010.21</td>\n",
       "      <td>34.72</td>\n",
       "      <td>1</td>\n",
       "    </tr>\n",
       "    <tr>\n",
       "      <th>1</th>\n",
       "      <td>5.31</td>\n",
       "      <td>75.128174</td>\n",
       "      <td>34.040527</td>\n",
       "      <td>1010.21</td>\n",
       "      <td>34.72</td>\n",
       "      <td>1</td>\n",
       "    </tr>\n",
       "    <tr>\n",
       "      <th>2</th>\n",
       "      <td>5.31</td>\n",
       "      <td>75.225830</td>\n",
       "      <td>34.060669</td>\n",
       "      <td>1010.18</td>\n",
       "      <td>34.70</td>\n",
       "      <td>1</td>\n",
       "    </tr>\n",
       "    <tr>\n",
       "      <th>3</th>\n",
       "      <td>5.32</td>\n",
       "      <td>75.225830</td>\n",
       "      <td>34.060669</td>\n",
       "      <td>1010.18</td>\n",
       "      <td>34.70</td>\n",
       "      <td>1</td>\n",
       "    </tr>\n",
       "    <tr>\n",
       "      <th>4</th>\n",
       "      <td>5.23</td>\n",
       "      <td>75.225830</td>\n",
       "      <td>34.060669</td>\n",
       "      <td>1010.22</td>\n",
       "      <td>34.71</td>\n",
       "      <td>1</td>\n",
       "    </tr>\n",
       "    <tr>\n",
       "      <th>...</th>\n",
       "      <td>...</td>\n",
       "      <td>...</td>\n",
       "      <td>...</td>\n",
       "      <td>...</td>\n",
       "      <td>...</td>\n",
       "      <td>...</td>\n",
       "    </tr>\n",
       "    <tr>\n",
       "      <th>4901</th>\n",
       "      <td>59.30</td>\n",
       "      <td>63.842773</td>\n",
       "      <td>34.805908</td>\n",
       "      <td>1010.27</td>\n",
       "      <td>35.12</td>\n",
       "      <td>0</td>\n",
       "    </tr>\n",
       "    <tr>\n",
       "      <th>4902</th>\n",
       "      <td>59.46</td>\n",
       "      <td>63.842773</td>\n",
       "      <td>34.805908</td>\n",
       "      <td>1010.29</td>\n",
       "      <td>35.13</td>\n",
       "      <td>0</td>\n",
       "    </tr>\n",
       "    <tr>\n",
       "      <th>4903</th>\n",
       "      <td>59.46</td>\n",
       "      <td>63.842773</td>\n",
       "      <td>34.805908</td>\n",
       "      <td>1010.29</td>\n",
       "      <td>35.13</td>\n",
       "      <td>0</td>\n",
       "    </tr>\n",
       "    <tr>\n",
       "      <th>4904</th>\n",
       "      <td>59.46</td>\n",
       "      <td>63.842773</td>\n",
       "      <td>34.805908</td>\n",
       "      <td>1010.29</td>\n",
       "      <td>35.13</td>\n",
       "      <td>0</td>\n",
       "    </tr>\n",
       "    <tr>\n",
       "      <th>4905</th>\n",
       "      <td>59.46</td>\n",
       "      <td>63.842773</td>\n",
       "      <td>34.785767</td>\n",
       "      <td>1010.29</td>\n",
       "      <td>35.14</td>\n",
       "      <td>0</td>\n",
       "    </tr>\n",
       "  </tbody>\n",
       "</table>\n",
       "<p>9812 rows × 6 columns</p>\n",
       "</div>"
      ],
      "text/plain": [
       "      light   humidity  humidity_temp  pressure  pressure_temp  rain\n",
       "0      5.32  75.128174      34.040527   1010.21          34.72     1\n",
       "1      5.31  75.128174      34.040527   1010.21          34.72     1\n",
       "2      5.31  75.225830      34.060669   1010.18          34.70     1\n",
       "3      5.32  75.225830      34.060669   1010.18          34.70     1\n",
       "4      5.23  75.225830      34.060669   1010.22          34.71     1\n",
       "...     ...        ...            ...       ...            ...   ...\n",
       "4901  59.30  63.842773      34.805908   1010.27          35.12     0\n",
       "4902  59.46  63.842773      34.805908   1010.29          35.13     0\n",
       "4903  59.46  63.842773      34.805908   1010.29          35.13     0\n",
       "4904  59.46  63.842773      34.805908   1010.29          35.13     0\n",
       "4905  59.46  63.842773      34.785767   1010.29          35.14     0\n",
       "\n",
       "[9812 rows x 6 columns]"
      ]
     },
     "execution_count": 12,
     "metadata": {},
     "output_type": "execute_result"
    }
   ],
   "source": [
    "df_full = df_rain.append(df_no_rain.iloc[:4906])\n",
    "df_full"
   ]
  },
  {
   "cell_type": "code",
   "execution_count": 13,
   "metadata": {
    "id": "Ihpg9TmBdD9z"
   },
   "outputs": [],
   "source": [
    "X_train, X_test, y_train, y_test = split_data(df_full)"
   ]
  },
  {
   "cell_type": "code",
   "execution_count": 14,
   "metadata": {
    "id": "m7JaFZrLn0y1"
   },
   "outputs": [],
   "source": [
    "param_test_SVM = {'C':[0.1,10],\n",
    "          'kernel': ('linear', 'poly', 'rbf', 'sigmoid'),\n",
    "          'decision_function_shape': ('ovr', 'ovo')}\n",
    "\n",
    "model = make_pipeline(StandardScaler(), \n",
    "                    GridSearchCV(SVC(),\n",
    "                          param_grid=param_test_SVM,\n",
    "                          cv=5,\n",
    "                          refit=True),\n",
    "                          verbose=0)\n",
    "\n",
    "model.fit(X_train, y_train.values.ravel())\n",
    "\n",
    "model_filename = 'model1.sav'\n",
    "pickle.dump(model, open(model_filename, 'wb'))"
   ]
  },
  {
   "cell_type": "code",
   "execution_count": 15,
   "metadata": {
    "colab": {
     "base_uri": "https://localhost:8080/"
    },
    "id": "U694UuuH87SU",
    "outputId": "3da3a85c-2175-494e-e8aa-994e3bb6fada"
   },
   "outputs": [
    {
     "name": "stdout",
     "output_type": "stream",
     "text": [
      "1.0\n"
     ]
    }
   ],
   "source": [
    "# load the model from disk\n",
    "loaded_model = pickle.load(open(model_filename, 'rb'))\n",
    "result = loaded_model.score(X_test, y_test)\n",
    "print(result)"
   ]
  },
  {
   "cell_type": "code",
   "execution_count": 19,
   "metadata": {},
   "outputs": [
    {
     "name": "stdout",
     "output_type": "stream",
     "text": [
      "SVC(C=0.1, kernel='linear')\n"
     ]
    }
   ],
   "source": [
    "tanat_model = pickle.load(open('model_tanat.sav', 'rb'))\n",
    "print(tanat_model)\n",
    "\n"
   ]
  },
  {
   "cell_type": "code",
   "execution_count": 21,
   "metadata": {},
   "outputs": [],
   "source": [
    "standardScalerMean = {\n",
    "        \"light\": 3.0710061,\n",
    "        \"humidity\": 74.84800758,\n",
    "        \"humidityTemp\": 31.31831006,\n",
    "        \"pressure\": 1008.31411585,\n",
    "        \"pressureTemp\": 31.82347561,\n",
    "}\n",
    "    \n",
    "standardScalerStd = {\n",
    "        \"light\": 14.96252355,\n",
    "        \"humidity\": 8.23631047,\n",
    "        \"humidityTemp\": 0.70464542,\n",
    "        \"pressure\": 0.0533495,\n",
    "        \"pressureTemp\": 0.56733501\n",
    "}"
   ]
  },
  {
   "cell_type": "code",
   "execution_count": null,
   "metadata": {},
   "outputs": [],
   "source": []
  }
 ],
 "metadata": {
  "accelerator": "GPU",
  "colab": {
   "name": "Model.ipynb",
   "provenance": []
  },
  "kernelspec": {
   "display_name": "Python 3",
   "language": "python",
   "name": "python3"
  },
  "language_info": {
   "codemirror_mode": {
    "name": "ipython",
    "version": 3
   },
   "file_extension": ".py",
   "mimetype": "text/x-python",
   "name": "python",
   "nbconvert_exporter": "python",
   "pygments_lexer": "ipython3",
   "version": "3.8.3"
  }
 },
 "nbformat": 4,
 "nbformat_minor": 1
}
