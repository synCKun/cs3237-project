{
 "cells": [
  {
   "cell_type": "markdown",
   "metadata": {},
   "source": [
    "From this:\n",
    "\n",
    "https://medium.com/cs-note/tensorflow-ch4-support-vector-machines-c9ad18878c76"
   ]
  },
  {
   "cell_type": "code",
   "execution_count": 20,
   "metadata": {},
   "outputs": [],
   "source": [
    "import numpy as np\n",
    "\n",
    "import pandas as pd\n",
    "import tensorflow as tf\n",
    "\n",
    "from sklearn.model_selection import train_test_split\n",
    "\n",
    "def load_data(filename='all_data.csv'):\n",
    "    df = pd.read_csv(filename)\n",
    "    return df\n",
    "\n",
    "def split_data(X, Y, test_size=0.3, random_state=42):\n",
    "    return train_test_split(X, Y, test_size=test_size, random_state=random_state)"
   ]
  },
  {
   "cell_type": "markdown",
   "metadata": {},
   "source": [
    "Load Data"
   ]
  },
  {
   "cell_type": "code",
   "execution_count": 11,
   "metadata": {},
   "outputs": [
    {
     "data": {
      "text/plain": [
       "Index(['light', 'humidity', 'humidity_temp', 'pressure', 'pressure_temp',\n",
       "       'rain'],\n",
       "      dtype='object')"
      ]
     },
     "execution_count": 11,
     "metadata": {},
     "output_type": "execute_result"
    }
   ],
   "source": [
    "data = load_data()\n",
    "data.columns"
   ]
  },
  {
   "cell_type": "code",
   "execution_count": null,
   "metadata": {},
   "outputs": [],
   "source": []
  },
  {
   "cell_type": "markdown",
   "metadata": {},
   "source": [
    "Split Data"
   ]
  },
  {
   "cell_type": "code",
   "execution_count": 12,
   "metadata": {},
   "outputs": [
    {
     "data": {
      "text/html": [
       "<div>\n",
       "<style scoped>\n",
       "    .dataframe tbody tr th:only-of-type {\n",
       "        vertical-align: middle;\n",
       "    }\n",
       "\n",
       "    .dataframe tbody tr th {\n",
       "        vertical-align: top;\n",
       "    }\n",
       "\n",
       "    .dataframe thead th {\n",
       "        text-align: right;\n",
       "    }\n",
       "</style>\n",
       "<table border=\"1\" class=\"dataframe\">\n",
       "  <thead>\n",
       "    <tr style=\"text-align: right;\">\n",
       "      <th></th>\n",
       "      <th>light</th>\n",
       "      <th>humidity</th>\n",
       "      <th>humidity_temp</th>\n",
       "      <th>pressure</th>\n",
       "      <th>pressure_temp</th>\n",
       "    </tr>\n",
       "  </thead>\n",
       "  <tbody>\n",
       "    <tr>\n",
       "      <th>0</th>\n",
       "      <td>5.32</td>\n",
       "      <td>75.128174</td>\n",
       "      <td>34.040527</td>\n",
       "      <td>1010.21</td>\n",
       "      <td>34.72</td>\n",
       "    </tr>\n",
       "    <tr>\n",
       "      <th>1</th>\n",
       "      <td>5.31</td>\n",
       "      <td>75.128174</td>\n",
       "      <td>34.040527</td>\n",
       "      <td>1010.21</td>\n",
       "      <td>34.72</td>\n",
       "    </tr>\n",
       "    <tr>\n",
       "      <th>2</th>\n",
       "      <td>5.31</td>\n",
       "      <td>75.225830</td>\n",
       "      <td>34.060669</td>\n",
       "      <td>1010.18</td>\n",
       "      <td>34.70</td>\n",
       "    </tr>\n",
       "    <tr>\n",
       "      <th>3</th>\n",
       "      <td>5.32</td>\n",
       "      <td>75.225830</td>\n",
       "      <td>34.060669</td>\n",
       "      <td>1010.18</td>\n",
       "      <td>34.70</td>\n",
       "    </tr>\n",
       "    <tr>\n",
       "      <th>4</th>\n",
       "      <td>5.23</td>\n",
       "      <td>75.225830</td>\n",
       "      <td>34.060669</td>\n",
       "      <td>1010.22</td>\n",
       "      <td>34.71</td>\n",
       "    </tr>\n",
       "    <tr>\n",
       "      <th>...</th>\n",
       "      <td>...</td>\n",
       "      <td>...</td>\n",
       "      <td>...</td>\n",
       "      <td>...</td>\n",
       "      <td>...</td>\n",
       "    </tr>\n",
       "    <tr>\n",
       "      <th>9807</th>\n",
       "      <td>59.30</td>\n",
       "      <td>63.842773</td>\n",
       "      <td>34.805908</td>\n",
       "      <td>1010.27</td>\n",
       "      <td>35.12</td>\n",
       "    </tr>\n",
       "    <tr>\n",
       "      <th>9808</th>\n",
       "      <td>59.46</td>\n",
       "      <td>63.842773</td>\n",
       "      <td>34.805908</td>\n",
       "      <td>1010.29</td>\n",
       "      <td>35.13</td>\n",
       "    </tr>\n",
       "    <tr>\n",
       "      <th>9809</th>\n",
       "      <td>59.46</td>\n",
       "      <td>63.842773</td>\n",
       "      <td>34.805908</td>\n",
       "      <td>1010.29</td>\n",
       "      <td>35.13</td>\n",
       "    </tr>\n",
       "    <tr>\n",
       "      <th>9810</th>\n",
       "      <td>59.46</td>\n",
       "      <td>63.842773</td>\n",
       "      <td>34.805908</td>\n",
       "      <td>1010.29</td>\n",
       "      <td>35.13</td>\n",
       "    </tr>\n",
       "    <tr>\n",
       "      <th>9811</th>\n",
       "      <td>59.46</td>\n",
       "      <td>63.842773</td>\n",
       "      <td>34.785767</td>\n",
       "      <td>1010.29</td>\n",
       "      <td>35.14</td>\n",
       "    </tr>\n",
       "  </tbody>\n",
       "</table>\n",
       "<p>9812 rows × 5 columns</p>\n",
       "</div>"
      ],
      "text/plain": [
       "      light   humidity  humidity_temp  pressure  pressure_temp\n",
       "0      5.32  75.128174      34.040527   1010.21          34.72\n",
       "1      5.31  75.128174      34.040527   1010.21          34.72\n",
       "2      5.31  75.225830      34.060669   1010.18          34.70\n",
       "3      5.32  75.225830      34.060669   1010.18          34.70\n",
       "4      5.23  75.225830      34.060669   1010.22          34.71\n",
       "...     ...        ...            ...       ...            ...\n",
       "9807  59.30  63.842773      34.805908   1010.27          35.12\n",
       "9808  59.46  63.842773      34.805908   1010.29          35.13\n",
       "9809  59.46  63.842773      34.805908   1010.29          35.13\n",
       "9810  59.46  63.842773      34.805908   1010.29          35.13\n",
       "9811  59.46  63.842773      34.785767   1010.29          35.14\n",
       "\n",
       "[9812 rows x 5 columns]"
      ]
     },
     "execution_count": 12,
     "metadata": {},
     "output_type": "execute_result"
    }
   ],
   "source": [
    "X = data[['light', 'humidity', 'humidity_temp', 'pressure', 'pressure_temp']]\n",
    "X"
   ]
  },
  {
   "cell_type": "code",
   "execution_count": 13,
   "metadata": {},
   "outputs": [
    {
     "data": {
      "text/plain": [
       "0       1\n",
       "1       1\n",
       "2       1\n",
       "3       1\n",
       "4       1\n",
       "       ..\n",
       "9807    0\n",
       "9808    0\n",
       "9809    0\n",
       "9810    0\n",
       "9811    0\n",
       "Name: rain, Length: 9812, dtype: int64"
      ]
     },
     "execution_count": 13,
     "metadata": {},
     "output_type": "execute_result"
    }
   ],
   "source": [
    "Y = data['rain']\n",
    "Y"
   ]
  },
  {
   "cell_type": "code",
   "execution_count": 15,
   "metadata": {},
   "outputs": [
    {
     "name": "stdout",
     "output_type": "stream",
     "text": [
      "(6868, 5) (2944, 5) (6868,) (2944,)\n"
     ]
    }
   ],
   "source": [
    "X_train, X_test, Y_train, Y_test = split_data(X, Y)\n",
    "\n",
    "print(X_train.shape, X_test.shape, Y_train.shape, Y_test.shape)"
   ]
  },
  {
   "cell_type": "markdown",
   "metadata": {},
   "source": [
    "Create placeholder and variable"
   ]
  },
  {
   "cell_type": "code",
   "execution_count": 24,
   "metadata": {},
   "outputs": [
    {
     "data": {
      "text/plain": [
       "<tf.Tensor: shape=(6868, 5), dtype=float64, numpy=\n",
       "array([[ 157.8       ,   66.69311523,   34.03045654, 1010.22      ,\n",
       "          34.95      ],\n",
       "       [  88.48      ,   59.21020508,   33.4967041 , 1009.05      ,\n",
       "          34.29      ],\n",
       "       [  42.48      ,   95.86181641,   35.25909424, 1008.72      ,\n",
       "          35.78      ],\n",
       "       ...,\n",
       "       [ 175.12      ,   77.6550293 ,   30.50567627, 1011.24      ,\n",
       "          31.25      ],\n",
       "       [  20.34      ,   74.11499023,   33.4463501 , 1007.28      ,\n",
       "          34.45      ],\n",
       "       [ 133.24      ,   62.1887207 ,   32.96295166, 1009.07      ,\n",
       "          33.86      ]])>"
      ]
     },
     "execution_count": 24,
     "metadata": {},
     "output_type": "execute_result"
    }
   ],
   "source": [
    "tf.constant(X_train)"
   ]
  },
  {
   "cell_type": "code",
   "execution_count": 40,
   "metadata": {},
   "outputs": [],
   "source": [
    "batch_size = 100\n",
    "X_input = tf.constant(X_train, dtype='float32')\n",
    "Y_input = tf.constant(Y_train, dtype='float32')\n",
    "\n",
    "A = tf.Variable(tf.random.normal(shape=[5,1]))\n",
    "b = tf.Variable(tf.random.normal(shape=[1,1]))"
   ]
  },
  {
   "cell_type": "code",
   "execution_count": 42,
   "metadata": {},
   "outputs": [],
   "source": [
    "model_output = tf.subtract(tf.matmul(X_input, A), b)"
   ]
  },
  {
   "cell_type": "code",
   "execution_count": 44,
   "metadata": {},
   "outputs": [],
   "source": [
    "l2_norm = tf.reduce_sum(tf.square(A))\n",
    "alpha = tf.constant([0.1])\n",
    "classification_term = tf.reduce_mean(tf.maximum(0., tf.subtract(1.,tf.multiply(model_output, Y_input))))\n",
    "loss = tf.add(classification_term, tf.multiply(alpha, l2_norm))"
   ]
  },
  {
   "cell_type": "code",
   "execution_count": 46,
   "metadata": {},
   "outputs": [],
   "source": [
    "prediction = tf.sign(model_output)\n",
    "accuracy = tf.reduce_mean(tf.cast(tf.equal(prediction, Y_input),\n",
    "tf.float32))"
   ]
  },
  {
   "cell_type": "code",
   "execution_count": null,
   "metadata": {},
   "outputs": [],
   "source": [
    "my_opt = tf.train.GradientDescentOptimizer(0.01)\n",
    "train_step = my_opt.minimize(loss)\n",
    "init = tf.initialize_all_variables()\n",
    "sess.run(init)"
   ]
  }
 ],
 "metadata": {
  "kernelspec": {
   "display_name": "Python 3",
   "language": "python",
   "name": "python3"
  },
  "language_info": {
   "codemirror_mode": {
    "name": "ipython",
    "version": 3
   },
   "file_extension": ".py",
   "mimetype": "text/x-python",
   "name": "python",
   "nbconvert_exporter": "python",
   "pygments_lexer": "ipython3",
   "version": "3.8.3"
  }
 },
 "nbformat": 4,
 "nbformat_minor": 4
}
