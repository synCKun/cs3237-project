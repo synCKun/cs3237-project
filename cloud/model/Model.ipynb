{
  "nbformat": 4,
  "nbformat_minor": 0,
  "metadata": {
    "colab": {
      "name": "Model.ipynb",
      "provenance": []
    },
    "kernelspec": {
      "name": "python3",
      "display_name": "Python 3"
    },
    "accelerator": "GPU"
  },
  "cells": [
    {
      "cell_type": "code",
      "metadata": {
        "id": "JU1jL4xlWPCz",
        "outputId": "5c356507-44f5-4cb7-91f9-9ed860e72b66",
        "colab": {
          "base_uri": "https://localhost:8080/"
        }
      },
      "source": [
        "from google.colab import drive\n",
        "drive.mount('/content/drive')"
      ],
      "execution_count": 2,
      "outputs": [
        {
          "output_type": "stream",
          "text": [
            "Mounted at /content/drive\n"
          ],
          "name": "stdout"
        }
      ]
    },
    {
      "cell_type": "code",
      "metadata": {
        "id": "64ip1JijWfI3",
        "outputId": "c5e39c34-81bd-4423-f4dc-75c907cbbb18",
        "colab": {
          "base_uri": "https://localhost:8080/"
        }
      },
      "source": [
        "cd /content/drive/My Drive/CS3237project"
      ],
      "execution_count": 3,
      "outputs": [
        {
          "output_type": "stream",
          "text": [
            "/content/drive/My Drive/CS3237project\n"
          ],
          "name": "stdout"
        }
      ]
    },
    {
      "cell_type": "code",
      "metadata": {
        "id": "-6urpg0ud_O2"
      },
      "source": [
        "import pandas as pd\n",
        "import matplotlib.pyplot as plt\n",
        "import sklearn\n",
        "import pickle\n",
        "from sklearn import metrics\n",
        "from sklearn.model_selection import train_test_split\n",
        "from sklearn.svm import SVC\n",
        "from sklearn.preprocessing import StandardScaler\n",
        "from sklearn.model_selection import GridSearchCV\n",
        "from sklearn.pipeline import Pipeline\n",
        "\n",
        "\n",
        "def load_data(url, rain_label, col=['time', 'light', 'humidity', 'humidity_temp', 'pressure', 'pressure_temp']):\n",
        "  df = pd.read_csv(url, names = col)\n",
        "  df.drop(columns=['time'], inplace = True)\n",
        "  df['rain'] = rain_label\n",
        "  return df\n",
        "\n",
        "\n",
        "def split_data(df, X_col=['light', 'humidity', 'humidity_temp', 'pressure', 'pressure_temp'], y_col=['rain'], test_size=0.2, random_state=42):\n",
        "\n",
        "  y = df_full[y_col]\n",
        "  X = df_full[X_col]\n",
        "  X_train, X_test, y_train, y_test = train_test_split(X, y, test_size=test_size, random_state=random_state)\n",
        "  \n",
        "  return X_train, X_test, y_train, y_test"
      ],
      "execution_count": 148,
      "outputs": []
    },
    {
      "cell_type": "code",
      "metadata": {
        "id": "8IR05qP_WsvY"
      },
      "source": [
        "rain_1_toilet_xz_csv_url = 'https://raw.githubusercontent.com/ttippinyu/cs3237-project/main/cloud/data/rain/rain_1_toilet_xz.csv?token=ALHL6UUQO34OSPFDJ23ED527VEI6E'\n",
        "rain_1_tanat_csv_url = 'https://raw.githubusercontent.com/ttippinyu/cs3237-project/xizhi/cloud/data/rain/rain_1_tanat.csv?token=ALHL6UUBN42RHB52PG3M6TS7VEY3A'\n",
        "rain_1_ck_csv_url = 'https://raw.githubusercontent.com/ttippinyu/cs3237-project/xizhi/cloud/data/rain/rain_1_ck.csv?token=ALHL6USJHZ2QLHD7B4XJXES7VEZD2'\n",
        "no_rain_1_toilet_xz_csv_url = 'https://raw.githubusercontent.com/ttippinyu/cs3237-project/main/cloud/data/no-rain/no_rain_1_toilet_xz.csv?token=ALHL6UT4GK57JWQXJDGBBE27VEJHW'\n",
        "no_rain_2_toilet_xz_csv_url = 'https://raw.githubusercontent.com/ttippinyu/cs3237-project/main/cloud/data/no-rain/no_rain_2_toilet_xz.csv?token=ALHL6US5OIKOJ555WUYKUNK7VEJKM'\n",
        "no_rain_1_tanat_csv_url = 'https://raw.githubusercontent.com/ttippinyu/cs3237-project/xizhi/cloud/data/no-rain/no_rain_1_tanat.csv?token=ALHL6UVGFKOQLBSXARTOBVS7VEZ3I'\n",
        "no_rain_1_ck_csv_url = 'https://raw.githubusercontent.com/ttippinyu/cs3237-project/xizhi/cloud/data/no-rain/no_rain_1_ck.csv?token=ALHL6USNPXLYYTWPNJ4D4KK7VEZZA'\n",
        "no_rain_1_xz_csv_url = 'https://raw.githubusercontent.com/ttippinyu/cs3237-project/xizhi/cloud/data/no-rain/no_rain_1_xz.csv?token=ALHL6USQRDWFZAJLIAEWYF27VE2AM'"
      ],
      "execution_count": 137,
      "outputs": []
    },
    {
      "cell_type": "code",
      "metadata": {
        "id": "z9GUwbQtZr8U"
      },
      "source": [
        "df_rain_1 = load_data(rain_1_toilet_xz_csv_url, rain_label=1)\n",
        "df_rain_2 = load_data(rain_1_tanat_csv_url, rain_label=1)\n",
        "df_rain_3 = load_data(rain_1_ck_csv_url, rain_label=1)\n",
        "\n",
        "df_no_rain_1 = load_data(no_rain_1_toilet_xz_csv_url, rain_label=0)\n",
        "df_no_rain_2 = load_data(no_rain_2_toilet_xz_csv_url, rain_label=0)\n",
        "df_no_rain_3 = load_data(no_rain_1_tanat_csv_url, rain_label=0)\n",
        "df_no_rain_4 = load_data(no_rain_1_ck_csv_url, rain_label=0)\n",
        "df_no_rain_5 = load_data(no_rain_1_xz_csv_url, rain_label=0)\n",
        "\n",
        "df_rain = df_rain_1.append(df_rain_2.append(df_rain_3), ignore_index=True)\n",
        "df_no_rain = df_no_rain_1.append(df_no_rain_2.append(df_no_rain_3.append(df_no_rain_4.append(df_no_rain_5))), ignore_index=True)"
      ],
      "execution_count": 140,
      "outputs": []
    },
    {
      "cell_type": "code",
      "metadata": {
        "id": "pUMaaRGm8UGW",
        "outputId": "580edba7-43a2-4bea-973d-d12c2f006ed3",
        "colab": {
          "base_uri": "https://localhost:8080/",
          "height": 419
        }
      },
      "source": [
        "df_rain"
      ],
      "execution_count": 141,
      "outputs": [
        {
          "output_type": "execute_result",
          "data": {
            "text/html": [
              "<div>\n",
              "<style scoped>\n",
              "    .dataframe tbody tr th:only-of-type {\n",
              "        vertical-align: middle;\n",
              "    }\n",
              "\n",
              "    .dataframe tbody tr th {\n",
              "        vertical-align: top;\n",
              "    }\n",
              "\n",
              "    .dataframe thead th {\n",
              "        text-align: right;\n",
              "    }\n",
              "</style>\n",
              "<table border=\"1\" class=\"dataframe\">\n",
              "  <thead>\n",
              "    <tr style=\"text-align: right;\">\n",
              "      <th></th>\n",
              "      <th>light</th>\n",
              "      <th>humidity</th>\n",
              "      <th>humidity_temp</th>\n",
              "      <th>pressure</th>\n",
              "      <th>pressure_temp</th>\n",
              "      <th>rain</th>\n",
              "    </tr>\n",
              "  </thead>\n",
              "  <tbody>\n",
              "    <tr>\n",
              "      <th>0</th>\n",
              "      <td>5.32</td>\n",
              "      <td>75.128174</td>\n",
              "      <td>34.040527</td>\n",
              "      <td>1010.21</td>\n",
              "      <td>34.72</td>\n",
              "      <td>1</td>\n",
              "    </tr>\n",
              "    <tr>\n",
              "      <th>1</th>\n",
              "      <td>5.31</td>\n",
              "      <td>75.128174</td>\n",
              "      <td>34.040527</td>\n",
              "      <td>1010.21</td>\n",
              "      <td>34.72</td>\n",
              "      <td>1</td>\n",
              "    </tr>\n",
              "    <tr>\n",
              "      <th>2</th>\n",
              "      <td>5.31</td>\n",
              "      <td>75.225830</td>\n",
              "      <td>34.060669</td>\n",
              "      <td>1010.18</td>\n",
              "      <td>34.70</td>\n",
              "      <td>1</td>\n",
              "    </tr>\n",
              "    <tr>\n",
              "      <th>3</th>\n",
              "      <td>5.32</td>\n",
              "      <td>75.225830</td>\n",
              "      <td>34.060669</td>\n",
              "      <td>1010.18</td>\n",
              "      <td>34.70</td>\n",
              "      <td>1</td>\n",
              "    </tr>\n",
              "    <tr>\n",
              "      <th>4</th>\n",
              "      <td>5.23</td>\n",
              "      <td>75.225830</td>\n",
              "      <td>34.060669</td>\n",
              "      <td>1010.22</td>\n",
              "      <td>34.71</td>\n",
              "      <td>1</td>\n",
              "    </tr>\n",
              "    <tr>\n",
              "      <th>...</th>\n",
              "      <td>...</td>\n",
              "      <td>...</td>\n",
              "      <td>...</td>\n",
              "      <td>...</td>\n",
              "      <td>...</td>\n",
              "      <td>...</td>\n",
              "    </tr>\n",
              "    <tr>\n",
              "      <th>4901</th>\n",
              "      <td>0.24</td>\n",
              "      <td>85.351562</td>\n",
              "      <td>36.910706</td>\n",
              "      <td>1008.66</td>\n",
              "      <td>37.88</td>\n",
              "      <td>1</td>\n",
              "    </tr>\n",
              "    <tr>\n",
              "      <th>4902</th>\n",
              "      <td>0.24</td>\n",
              "      <td>85.351562</td>\n",
              "      <td>36.910706</td>\n",
              "      <td>1008.66</td>\n",
              "      <td>37.88</td>\n",
              "      <td>1</td>\n",
              "    </tr>\n",
              "    <tr>\n",
              "      <th>4903</th>\n",
              "      <td>0.24</td>\n",
              "      <td>85.351562</td>\n",
              "      <td>36.910706</td>\n",
              "      <td>1008.66</td>\n",
              "      <td>37.88</td>\n",
              "      <td>1</td>\n",
              "    </tr>\n",
              "    <tr>\n",
              "      <th>4904</th>\n",
              "      <td>0.24</td>\n",
              "      <td>85.351562</td>\n",
              "      <td>36.910706</td>\n",
              "      <td>1008.66</td>\n",
              "      <td>37.88</td>\n",
              "      <td>1</td>\n",
              "    </tr>\n",
              "    <tr>\n",
              "      <th>4905</th>\n",
              "      <td>0.24</td>\n",
              "      <td>85.351562</td>\n",
              "      <td>36.910706</td>\n",
              "      <td>1008.72</td>\n",
              "      <td>37.93</td>\n",
              "      <td>1</td>\n",
              "    </tr>\n",
              "  </tbody>\n",
              "</table>\n",
              "<p>4906 rows × 6 columns</p>\n",
              "</div>"
            ],
            "text/plain": [
              "      light   humidity  humidity_temp  pressure  pressure_temp  rain\n",
              "0      5.32  75.128174      34.040527   1010.21          34.72     1\n",
              "1      5.31  75.128174      34.040527   1010.21          34.72     1\n",
              "2      5.31  75.225830      34.060669   1010.18          34.70     1\n",
              "3      5.32  75.225830      34.060669   1010.18          34.70     1\n",
              "4      5.23  75.225830      34.060669   1010.22          34.71     1\n",
              "...     ...        ...            ...       ...            ...   ...\n",
              "4901   0.24  85.351562      36.910706   1008.66          37.88     1\n",
              "4902   0.24  85.351562      36.910706   1008.66          37.88     1\n",
              "4903   0.24  85.351562      36.910706   1008.66          37.88     1\n",
              "4904   0.24  85.351562      36.910706   1008.66          37.88     1\n",
              "4905   0.24  85.351562      36.910706   1008.72          37.93     1\n",
              "\n",
              "[4906 rows x 6 columns]"
            ]
          },
          "metadata": {
            "tags": []
          },
          "execution_count": 141
        }
      ]
    },
    {
      "cell_type": "code",
      "metadata": {
        "id": "7dboaUHl8lA-",
        "outputId": "1339f906-6133-4ac1-bc54-bce847a83718",
        "colab": {
          "base_uri": "https://localhost:8080/",
          "height": 419
        }
      },
      "source": [
        "df_no_rain"
      ],
      "execution_count": 142,
      "outputs": [
        {
          "output_type": "execute_result",
          "data": {
            "text/html": [
              "<div>\n",
              "<style scoped>\n",
              "    .dataframe tbody tr th:only-of-type {\n",
              "        vertical-align: middle;\n",
              "    }\n",
              "\n",
              "    .dataframe tbody tr th {\n",
              "        vertical-align: top;\n",
              "    }\n",
              "\n",
              "    .dataframe thead th {\n",
              "        text-align: right;\n",
              "    }\n",
              "</style>\n",
              "<table border=\"1\" class=\"dataframe\">\n",
              "  <thead>\n",
              "    <tr style=\"text-align: right;\">\n",
              "      <th></th>\n",
              "      <th>light</th>\n",
              "      <th>humidity</th>\n",
              "      <th>humidity_temp</th>\n",
              "      <th>pressure</th>\n",
              "      <th>pressure_temp</th>\n",
              "      <th>rain</th>\n",
              "    </tr>\n",
              "  </thead>\n",
              "  <tbody>\n",
              "    <tr>\n",
              "      <th>0</th>\n",
              "      <td>158.12</td>\n",
              "      <td>67.187500</td>\n",
              "      <td>33.889465</td>\n",
              "      <td>1010.21</td>\n",
              "      <td>34.81</td>\n",
              "      <td>0</td>\n",
              "    </tr>\n",
              "    <tr>\n",
              "      <th>1</th>\n",
              "      <td>158.12</td>\n",
              "      <td>67.187500</td>\n",
              "      <td>33.909607</td>\n",
              "      <td>1010.21</td>\n",
              "      <td>34.81</td>\n",
              "      <td>0</td>\n",
              "    </tr>\n",
              "    <tr>\n",
              "      <th>2</th>\n",
              "      <td>157.80</td>\n",
              "      <td>67.187500</td>\n",
              "      <td>33.909607</td>\n",
              "      <td>1010.21</td>\n",
              "      <td>34.82</td>\n",
              "      <td>0</td>\n",
              "    </tr>\n",
              "    <tr>\n",
              "      <th>3</th>\n",
              "      <td>157.80</td>\n",
              "      <td>67.089844</td>\n",
              "      <td>33.909607</td>\n",
              "      <td>1010.21</td>\n",
              "      <td>34.82</td>\n",
              "      <td>0</td>\n",
              "    </tr>\n",
              "    <tr>\n",
              "      <th>4</th>\n",
              "      <td>157.80</td>\n",
              "      <td>67.089844</td>\n",
              "      <td>33.909607</td>\n",
              "      <td>1010.18</td>\n",
              "      <td>34.81</td>\n",
              "      <td>0</td>\n",
              "    </tr>\n",
              "    <tr>\n",
              "      <th>...</th>\n",
              "      <td>...</td>\n",
              "      <td>...</td>\n",
              "      <td>...</td>\n",
              "      <td>...</td>\n",
              "      <td>...</td>\n",
              "      <td>...</td>\n",
              "    </tr>\n",
              "    <tr>\n",
              "      <th>4965</th>\n",
              "      <td>57.68</td>\n",
              "      <td>63.842773</td>\n",
              "      <td>34.876404</td>\n",
              "      <td>1010.28</td>\n",
              "      <td>35.13</td>\n",
              "      <td>0</td>\n",
              "    </tr>\n",
              "    <tr>\n",
              "      <th>4966</th>\n",
              "      <td>57.68</td>\n",
              "      <td>63.842773</td>\n",
              "      <td>34.876404</td>\n",
              "      <td>1010.28</td>\n",
              "      <td>35.13</td>\n",
              "      <td>0</td>\n",
              "    </tr>\n",
              "    <tr>\n",
              "      <th>4967</th>\n",
              "      <td>58.02</td>\n",
              "      <td>63.842773</td>\n",
              "      <td>34.876404</td>\n",
              "      <td>1010.28</td>\n",
              "      <td>35.13</td>\n",
              "      <td>0</td>\n",
              "    </tr>\n",
              "    <tr>\n",
              "      <th>4968</th>\n",
              "      <td>58.02</td>\n",
              "      <td>63.842773</td>\n",
              "      <td>34.886475</td>\n",
              "      <td>1010.26</td>\n",
              "      <td>35.13</td>\n",
              "      <td>0</td>\n",
              "    </tr>\n",
              "    <tr>\n",
              "      <th>4969</th>\n",
              "      <td>58.82</td>\n",
              "      <td>63.842773</td>\n",
              "      <td>34.886475</td>\n",
              "      <td>1010.26</td>\n",
              "      <td>35.13</td>\n",
              "      <td>0</td>\n",
              "    </tr>\n",
              "  </tbody>\n",
              "</table>\n",
              "<p>4970 rows × 6 columns</p>\n",
              "</div>"
            ],
            "text/plain": [
              "       light   humidity  humidity_temp  pressure  pressure_temp  rain\n",
              "0     158.12  67.187500      33.889465   1010.21          34.81     0\n",
              "1     158.12  67.187500      33.909607   1010.21          34.81     0\n",
              "2     157.80  67.187500      33.909607   1010.21          34.82     0\n",
              "3     157.80  67.089844      33.909607   1010.21          34.82     0\n",
              "4     157.80  67.089844      33.909607   1010.18          34.81     0\n",
              "...      ...        ...            ...       ...            ...   ...\n",
              "4965   57.68  63.842773      34.876404   1010.28          35.13     0\n",
              "4966   57.68  63.842773      34.876404   1010.28          35.13     0\n",
              "4967   58.02  63.842773      34.876404   1010.28          35.13     0\n",
              "4968   58.02  63.842773      34.886475   1010.26          35.13     0\n",
              "4969   58.82  63.842773      34.886475   1010.26          35.13     0\n",
              "\n",
              "[4970 rows x 6 columns]"
            ]
          },
          "metadata": {
            "tags": []
          },
          "execution_count": 142
        }
      ]
    },
    {
      "cell_type": "code",
      "metadata": {
        "id": "8zApMp3A8tLz",
        "outputId": "015d6bcc-1bb1-4373-e472-bc40d9119797",
        "colab": {
          "base_uri": "https://localhost:8080/",
          "height": 419
        }
      },
      "source": [
        "df_full = df_rain.append(df_no_rain.iloc[:4906])\n",
        "df_full"
      ],
      "execution_count": 143,
      "outputs": [
        {
          "output_type": "execute_result",
          "data": {
            "text/html": [
              "<div>\n",
              "<style scoped>\n",
              "    .dataframe tbody tr th:only-of-type {\n",
              "        vertical-align: middle;\n",
              "    }\n",
              "\n",
              "    .dataframe tbody tr th {\n",
              "        vertical-align: top;\n",
              "    }\n",
              "\n",
              "    .dataframe thead th {\n",
              "        text-align: right;\n",
              "    }\n",
              "</style>\n",
              "<table border=\"1\" class=\"dataframe\">\n",
              "  <thead>\n",
              "    <tr style=\"text-align: right;\">\n",
              "      <th></th>\n",
              "      <th>light</th>\n",
              "      <th>humidity</th>\n",
              "      <th>humidity_temp</th>\n",
              "      <th>pressure</th>\n",
              "      <th>pressure_temp</th>\n",
              "      <th>rain</th>\n",
              "    </tr>\n",
              "  </thead>\n",
              "  <tbody>\n",
              "    <tr>\n",
              "      <th>0</th>\n",
              "      <td>5.32</td>\n",
              "      <td>75.128174</td>\n",
              "      <td>34.040527</td>\n",
              "      <td>1010.21</td>\n",
              "      <td>34.72</td>\n",
              "      <td>1</td>\n",
              "    </tr>\n",
              "    <tr>\n",
              "      <th>1</th>\n",
              "      <td>5.31</td>\n",
              "      <td>75.128174</td>\n",
              "      <td>34.040527</td>\n",
              "      <td>1010.21</td>\n",
              "      <td>34.72</td>\n",
              "      <td>1</td>\n",
              "    </tr>\n",
              "    <tr>\n",
              "      <th>2</th>\n",
              "      <td>5.31</td>\n",
              "      <td>75.225830</td>\n",
              "      <td>34.060669</td>\n",
              "      <td>1010.18</td>\n",
              "      <td>34.70</td>\n",
              "      <td>1</td>\n",
              "    </tr>\n",
              "    <tr>\n",
              "      <th>3</th>\n",
              "      <td>5.32</td>\n",
              "      <td>75.225830</td>\n",
              "      <td>34.060669</td>\n",
              "      <td>1010.18</td>\n",
              "      <td>34.70</td>\n",
              "      <td>1</td>\n",
              "    </tr>\n",
              "    <tr>\n",
              "      <th>4</th>\n",
              "      <td>5.23</td>\n",
              "      <td>75.225830</td>\n",
              "      <td>34.060669</td>\n",
              "      <td>1010.22</td>\n",
              "      <td>34.71</td>\n",
              "      <td>1</td>\n",
              "    </tr>\n",
              "    <tr>\n",
              "      <th>...</th>\n",
              "      <td>...</td>\n",
              "      <td>...</td>\n",
              "      <td>...</td>\n",
              "      <td>...</td>\n",
              "      <td>...</td>\n",
              "      <td>...</td>\n",
              "    </tr>\n",
              "    <tr>\n",
              "      <th>4901</th>\n",
              "      <td>59.30</td>\n",
              "      <td>63.842773</td>\n",
              "      <td>34.805908</td>\n",
              "      <td>1010.27</td>\n",
              "      <td>35.12</td>\n",
              "      <td>0</td>\n",
              "    </tr>\n",
              "    <tr>\n",
              "      <th>4902</th>\n",
              "      <td>59.46</td>\n",
              "      <td>63.842773</td>\n",
              "      <td>34.805908</td>\n",
              "      <td>1010.29</td>\n",
              "      <td>35.13</td>\n",
              "      <td>0</td>\n",
              "    </tr>\n",
              "    <tr>\n",
              "      <th>4903</th>\n",
              "      <td>59.46</td>\n",
              "      <td>63.842773</td>\n",
              "      <td>34.805908</td>\n",
              "      <td>1010.29</td>\n",
              "      <td>35.13</td>\n",
              "      <td>0</td>\n",
              "    </tr>\n",
              "    <tr>\n",
              "      <th>4904</th>\n",
              "      <td>59.46</td>\n",
              "      <td>63.842773</td>\n",
              "      <td>34.805908</td>\n",
              "      <td>1010.29</td>\n",
              "      <td>35.13</td>\n",
              "      <td>0</td>\n",
              "    </tr>\n",
              "    <tr>\n",
              "      <th>4905</th>\n",
              "      <td>59.46</td>\n",
              "      <td>63.842773</td>\n",
              "      <td>34.785767</td>\n",
              "      <td>1010.29</td>\n",
              "      <td>35.14</td>\n",
              "      <td>0</td>\n",
              "    </tr>\n",
              "  </tbody>\n",
              "</table>\n",
              "<p>9812 rows × 6 columns</p>\n",
              "</div>"
            ],
            "text/plain": [
              "      light   humidity  humidity_temp  pressure  pressure_temp  rain\n",
              "0      5.32  75.128174      34.040527   1010.21          34.72     1\n",
              "1      5.31  75.128174      34.040527   1010.21          34.72     1\n",
              "2      5.31  75.225830      34.060669   1010.18          34.70     1\n",
              "3      5.32  75.225830      34.060669   1010.18          34.70     1\n",
              "4      5.23  75.225830      34.060669   1010.22          34.71     1\n",
              "...     ...        ...            ...       ...            ...   ...\n",
              "4901  59.30  63.842773      34.805908   1010.27          35.12     0\n",
              "4902  59.46  63.842773      34.805908   1010.29          35.13     0\n",
              "4903  59.46  63.842773      34.805908   1010.29          35.13     0\n",
              "4904  59.46  63.842773      34.805908   1010.29          35.13     0\n",
              "4905  59.46  63.842773      34.785767   1010.29          35.14     0\n",
              "\n",
              "[9812 rows x 6 columns]"
            ]
          },
          "metadata": {
            "tags": []
          },
          "execution_count": 143
        }
      ]
    },
    {
      "cell_type": "code",
      "metadata": {
        "id": "Ihpg9TmBdD9z"
      },
      "source": [
        "X_train, X_test, y_train, y_test = split_data(df_full)"
      ],
      "execution_count": 144,
      "outputs": []
    },
    {
      "cell_type": "code",
      "metadata": {
        "id": "m7JaFZrLn0y1"
      },
      "source": [
        "param_test_SVM = {'C':[0.1,10],\n",
        "          'kernel': ('linear', 'poly', 'rbf', 'sigmoid'),\n",
        "          'decision_function_shape': ('ovr', 'ovo')}\n",
        "\n",
        "model = make_pipeline(StandardScaler(), \n",
        "                    GridSearchCV(SVC(),\n",
        "                          param_grid=param_test_SVM,\n",
        "                          cv=5,\n",
        "                          refit=True),\n",
        "                          verbose=0)\n",
        "\n",
        "model.fit(X_train, y_train.values.ravel())\n",
        "\n",
        "model_filename = 'model1.sav'\n",
        "pickle.dump(model, open(filename, 'wb'))"
      ],
      "execution_count": 149,
      "outputs": []
    },
    {
      "cell_type": "code",
      "metadata": {
        "id": "U694UuuH87SU",
        "outputId": "3da3a85c-2175-494e-e8aa-994e3bb6fada",
        "colab": {
          "base_uri": "https://localhost:8080/"
        }
      },
      "source": [
        "# load the model from disk\n",
        "loaded_model = pickle.load(open(model_filename, 'rb'))\n",
        "result = loaded_model.score(X_test, y_test)\n",
        "print(result)"
      ],
      "execution_count": 150,
      "outputs": [
        {
          "output_type": "stream",
          "text": [
            "1.0\n"
          ],
          "name": "stdout"
        }
      ]
    },
    {
      "cell_type": "code",
      "metadata": {
        "id": "kFU5epE0-q7W"
      },
      "source": [
        ""
      ],
      "execution_count": null,
      "outputs": []
    }
  ]
}